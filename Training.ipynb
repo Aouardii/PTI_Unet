{
 "cells": [
  {
   "cell_type": "markdown",
   "id": "f234486e",
   "metadata": {},
   "source": [
    "## Code permettant de réaliser les 7 entrainements\n"
   ]
  },
  {
   "cell_type": "code",
   "execution_count": null,
   "id": "f925ed2d",
   "metadata": {},
   "outputs": [],
   "source": [
    "import os\n",
    "os.environ['KMP_DUPLICATE_LIB_OK']='True'\n",
    "from monai.networks.nets import UNet\n",
    "from monai.networks.layers import Norm\n",
    "from monai.losses import DiceLoss, DiceCELoss\n",
    "\n",
    "import torch\n",
    "from utilities import train\n",
    "from Load import prepareTest , prepareTrain \n"
   ]
  },
  {
   "cell_type": "code",
   "execution_count": null,
   "id": "60489c9b",
   "metadata": {},
   "outputs": [],
   "source": [
    "\n",
    "#Contient tous les entrainement que l'on veut réaliser , de l'IRM 1 à 6 et 9 pour le mix\n",
    "MRI = [ \"1\",\"2\",\"3\",\"4\",\"5\",\"6\",\"9\"]\n"
   ]
  },
  {
   "cell_type": "code",
   "execution_count": null,
   "id": "2a42b027",
   "metadata": {},
   "outputs": [],
   "source": [
    "for x in MRI :\n",
    "    print(\"This is the iteration number \" + str(x ))\n",
    "    \n",
    "    #Crée le dossier ou sera stocké le modèle\n",
    "    os.mkdir('H:\\TDSI\\cc359_preprocessed\\Stockage\\MRI' +str(x) + str(x) )\n",
    "    #Dirige vers le path ou est stocké  le modèle\n",
    "    model_dir = 'H:\\TDSI\\cc359_preprocessed\\Stockage\\MRI' +str(x) + str(x) \n",
    "\n",
    "    #Path vers l'emplcament des données déja divisées en volumes et maps de segmentation\n",
    "    source_dir = 'H:\\TDSI\\cc359_preprocessed\\MRI' + str(x)\n",
    "   #preparetrain : load les données d'entrainement\n",
    "    source_in = prepareTrain(source_dir, cache=True)\n",
    "    cible_dir = 'H:\\TDSI\\cc359_preprocessed\\MRI' + str(x)\n",
    "    #preparetest : load les données de test\n",
    "    cible_in = prepareTest(cible_dir, cache=True)\n",
    "\n",
    "    data_in = source_in , cible_in\n",
    "\n",
    "    \n",
    "    #Choix du device sur GPU et instantiation du UNET\n",
    "    device = torch.device(\"cuda:0\")\n",
    "    model = UNet(\n",
    "        dimensions=3,\n",
    "        in_channels=1,\n",
    "        out_channels=2,\n",
    "        channels=(16, 32, 64, 128, 256), \n",
    "        strides=(2, 2, 2, 2),\n",
    "        num_res_units=2,\n",
    "        norm=Norm.BATCH,\n",
    "    ).to(device)\n",
    "\n",
    "   \n",
    "    \n",
    "    #loss_function = DiceCELoss(to_onehot_y=True, sigmoid=True, squared_pred=True, ce_weight=calculate_weights(1792651250,2510860).to(device))\n",
    "    loss_function = DiceLoss(to_onehot_y=True, sigmoid=True, squared_pred=True)\n",
    "    # On peut changer le taux d'apprentissage , dans ce cas il est 10^-4\n",
    "    optimizer = torch.optim.Adam(model.parameters(), 1e-4, weight_decay=1e-5, amsgrad=True)\n",
    "\n",
    "    # Appel de la fonction train pour 200 epochs\n",
    "    if __name__ == '__main__':\n",
    "        train(model, data_in, loss_function, optimizer, 200, model_dir)\n",
    "\n"
   ]
  }
 ],
 "metadata": {
  "kernelspec": {
   "display_name": "TDSI_Final",
   "language": "python",
   "name": "python3"
  },
  "language_info": {
   "codemirror_mode": {
    "name": "ipython",
    "version": 3
   },
   "file_extension": ".py",
   "mimetype": "text/x-python",
   "name": "python",
   "nbconvert_exporter": "python",
   "pygments_lexer": "ipython3",
   "version": "3.9.16 (main, Jan 11 2023, 16:16:36) [MSC v.1916 64 bit (AMD64)]"
  },
  "vscode": {
   "interpreter": {
    "hash": "754ff3c593bd2cbb54d6a62d0f8425bb391c88eb274fc6786c5538e7558ec9b7"
   }
  }
 },
 "nbformat": 4,
 "nbformat_minor": 5
}
